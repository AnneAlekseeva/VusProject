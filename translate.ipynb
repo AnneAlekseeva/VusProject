{
 "cells": [
  {
   "cell_type": "code",
   "execution_count": 2,
   "metadata": {},
   "outputs": [],
   "source": [
    "import os\n",
    "from transformers import MarianMTModel, MarianTokenizer\n",
    "\n",
    "# Пути к локальным моделям\n",
    "local_path_ru_en = \"./models/ru_en\"  # Русский -> Английский\n",
    "local_path_en_ru = \"./models/en_ru\"  # Английский -> Русский"
   ]
  },
  {
   "cell_type": "code",
   "execution_count": 3,
   "metadata": {},
   "outputs": [],
   "source": [
    "# Функция для загрузки модели и токенизатора\n",
    "def load_model_and_tokenizer(model_path):\n",
    "    tokenizer = MarianTokenizer.from_pretrained(model_path)\n",
    "    model = MarianMTModel.from_pretrained(model_path)\n",
    "    return tokenizer, model"
   ]
  },
  {
   "cell_type": "code",
   "execution_count": 4,
   "metadata": {},
   "outputs": [],
   "source": [
    "# Функция для перевода текста\n",
    "def translate_text(text, tokenizer, model):\n",
    "    # Токенизация текста\n",
    "    tokens = tokenizer(text, return_tensors=\"pt\", padding=True, truncation=True)\n",
    "    # Перевод текста\n",
    "    translated_tokens = model.generate(**tokens)\n",
    "    # Декодирование переведённого текста\n",
    "    translated_text = tokenizer.decode(translated_tokens[0], skip_special_tokens=True)\n",
    "    return translated_text"
   ]
  },
  {
   "cell_type": "code",
   "execution_count": 5,
   "metadata": {},
   "outputs": [],
   "source": [
    "# Обработка файла text.txt\n",
    "def process_txt_file(input_path, output_path, tokenizer, model):\n",
    "    # Чтение исходного текста\n",
    "    with open(input_path, \"r\", encoding=\"utf-8\") as file:\n",
    "        text = file.read()\n",
    "    \n",
    "    # Перевод текста\n",
    "    translated_text = translate_text(text, tokenizer, model)\n",
    "    \n",
    "    # Сохранение перевода\n",
    "    with open(output_path, \"w\", encoding=\"utf-8\") as file:\n",
    "        file.write(translated_text)\n",
    "    print(f\"Переведённый текст сохранён в {output_path}\")"
   ]
  },
  {
   "cell_type": "code",
   "execution_count": 6,
   "metadata": {},
   "outputs": [],
   "source": [
    "# Обработка файла test.json\n",
    "import json\n",
    "\n",
    "def process_json_file(input_path, output_path, tokenizer, model):\n",
    "    # Чтение исходного JSON\n",
    "    with open(input_path, \"r\", encoding=\"utf-8\") as file:\n",
    "        test_data = json.load(file)\n",
    "    \n",
    "    # Перевод вопросов и вариантов ответов\n",
    "    for question in test_data[\"questions\"]:\n",
    "        question[\"question\"] = translate_text(question[\"question\"], tokenizer, model)\n",
    "        question[\"options\"] = [translate_text(option, tokenizer, model) for option in question[\"options\"]]\n",
    "    \n",
    "    # Сохранение переведённого JSON\n",
    "    with open(output_path, \"w\", encoding=\"utf-8\") as file:\n",
    "        json.dump(test_data, file, ensure_ascii=False, indent=4)\n",
    "    print(f\"Переведённый тест сохранён в {output_path}\")"
   ]
  },
  {
   "cell_type": "code",
   "execution_count": null,
   "metadata": {},
   "outputs": [
    {
     "name": "stdout",
     "output_type": "stream",
     "text": [
      "Загрузка моделей и токенизаторов...\n",
      "Перевод файла text.txt...\n",
      "Переведённый текст сохранён в text_eng.txt\n",
      "Перевод файла test.json...\n",
      "Переведённый тест сохранён в test_ru.json\n"
     ]
    },
    {
     "ename": "",
     "evalue": "",
     "output_type": "error",
     "traceback": [
      "\u001b[1;31mThe Kernel crashed while executing code in the current cell or a previous cell. \n",
      "\u001b[1;31mPlease review the code in the cell(s) to identify a possible cause of the failure. \n",
      "\u001b[1;31mClick <a href='https://aka.ms/vscodeJupyterKernelCrash'>here</a> for more info. \n",
      "\u001b[1;31mView Jupyter <a href='command:jupyter.viewOutput'>log</a> for further details."
     ]
    }
   ],
   "source": [
    "# Основной код\n",
    "if __name__ == \"__main__\":\n",
    "    # Пути к файлам\n",
    "    text_input_path = \"text.txt\"\n",
    "    text_output_path = \"text_eng.txt\"\n",
    "    json_input_path = \"test.json\"\n",
    "    json_output_path = \"test_ru.json\"\n",
    "\n",
    "    # Загрузка моделей\n",
    "    print(\"Загрузка моделей и токенизаторов...\")\n",
    "    ru_en_tokenizer, ru_en_model = load_model_and_tokenizer(local_path_ru_en)  # Русский -> Английский\n",
    "    en_ru_tokenizer, en_ru_model = load_model_and_tokenizer(local_path_en_ru)  # Английский -> Русский\n",
    "    \n",
    "    # Перевод text.txt на английский\n",
    "    print(\"Перевод файла text.txt...\")\n",
    "    process_txt_file(text_input_path, text_output_path, ru_en_tokenizer, ru_en_model)\n",
    "\n",
    "    # Перевод test.json на русский\n",
    "    print(\"Перевод файла test.json...\")\n",
    "    process_json_file(json_input_path, json_output_path, en_ru_tokenizer, en_ru_model)"
   ]
  }
 ],
 "metadata": {
  "kernelspec": {
   "display_name": "Python 3",
   "language": "python",
   "name": "python3"
  },
  "language_info": {
   "codemirror_mode": {
    "name": "ipython",
    "version": 3
   },
   "file_extension": ".py",
   "mimetype": "text/x-python",
   "name": "python",
   "nbconvert_exporter": "python",
   "pygments_lexer": "ipython3",
   "version": "3.9.10"
  }
 },
 "nbformat": 4,
 "nbformat_minor": 2
}
